{
 "cells": [
  {
   "cell_type": "code",
   "execution_count": 1,
   "metadata": {},
   "outputs": [
    {
     "ename": "FileNotFoundError",
     "evalue": "[WinError 3] Le chemin d’accès spécifié est introuvable: ''",
     "output_type": "error",
     "traceback": [
      "\u001b[1;31m---------------------------------------------------------------------------\u001b[0m",
      "\u001b[1;31mFileNotFoundError\u001b[0m                         Traceback (most recent call last)",
      "\u001b[1;32mc:\\Users\\Asus\\Downloads\\Pause Diabolo Temp\\CCMredim\\panda.ipynb Cellule 1\u001b[0m in \u001b[0;36m<cell line: 21>\u001b[1;34m()\u001b[0m\n\u001b[0;32m     <a href='vscode-notebook-cell:/c%3A/Users/Asus/Downloads/Pause%20Diabolo%20Temp/CCMredim/panda.ipynb#W0sZmlsZQ%3D%3D?line=17'>18</a>\u001b[0m data \u001b[39m=\u001b[39m []\n\u001b[0;32m     <a href='vscode-notebook-cell:/c%3A/Users/Asus/Downloads/Pause%20Diabolo%20Temp/CCMredim/panda.ipynb#W0sZmlsZQ%3D%3D?line=19'>20</a>\u001b[0m \u001b[39m# Parcourir tous les fichiers du dossier\u001b[39;00m\n\u001b[1;32m---> <a href='vscode-notebook-cell:/c%3A/Users/Asus/Downloads/Pause%20Diabolo%20Temp/CCMredim/panda.ipynb#W0sZmlsZQ%3D%3D?line=20'>21</a>\u001b[0m \u001b[39mfor\u001b[39;00m filename \u001b[39min\u001b[39;00m os\u001b[39m.\u001b[39;49mlistdir(folder_path):\n\u001b[0;32m     <a href='vscode-notebook-cell:/c%3A/Users/Asus/Downloads/Pause%20Diabolo%20Temp/CCMredim/panda.ipynb#W0sZmlsZQ%3D%3D?line=21'>22</a>\u001b[0m     \u001b[39mif\u001b[39;00m filename\u001b[39m.\u001b[39mendswith(\u001b[39m'\u001b[39m\u001b[39m.jpg\u001b[39m\u001b[39m'\u001b[39m) \u001b[39mor\u001b[39;00m filename\u001b[39m.\u001b[39mendswith(\u001b[39m'\u001b[39m\u001b[39m.png\u001b[39m\u001b[39m'\u001b[39m):\n\u001b[0;32m     <a href='vscode-notebook-cell:/c%3A/Users/Asus/Downloads/Pause%20Diabolo%20Temp/CCMredim/panda.ipynb#W0sZmlsZQ%3D%3D?line=22'>23</a>\u001b[0m         \u001b[39m# Chemin complet du fichier\u001b[39;00m\n\u001b[0;32m     <a href='vscode-notebook-cell:/c%3A/Users/Asus/Downloads/Pause%20Diabolo%20Temp/CCMredim/panda.ipynb#W0sZmlsZQ%3D%3D?line=23'>24</a>\u001b[0m         filepath \u001b[39m=\u001b[39m os\u001b[39m.\u001b[39mpath\u001b[39m.\u001b[39mjoin(folder_path, filename)\n",
      "\u001b[1;31mFileNotFoundError\u001b[0m: [WinError 3] Le chemin d’accès spécifié est introuvable: ''"
     ]
    }
   ],
   "source": [
    "import os\n",
    "import cv2\n",
    "import tkinter as tk\n",
    "from tkinter import filedialog\n",
    "import pandas as pd\n",
    "\n",
    "# Fonction pour afficher une boîte de dialogue et sélectionner un dossier\n",
    "def select_folder():\n",
    "    root = tk.Tk()\n",
    "    root.withdraw()\n",
    "    folder_path = filedialog.askdirectory()\n",
    "    return folder_path\n",
    "\n",
    "# Sélection du dossier contenant les images\n",
    "folder_path = select_folder()\n",
    "\n",
    "# Liste pour stocker les données des images\n",
    "data = []\n",
    "\n",
    "# Parcourir tous les fichiers du dossier\n",
    "for filename in os.listdir(folder_path):\n",
    "    if filename.endswith('.jpg') or filename.endswith('.png'):\n",
    "        # Chemin complet du fichier\n",
    "        filepath = os.path.join(folder_path, filename)\n",
    "\n",
    "        # Charger l'image\n",
    "        image = cv2.imread(filepath)    \n",
    "\n",
    "        # Afficher l'image\n",
    "        cv2.imshow('Image', image)\n",
    "        cv2.waitKey(0)\n",
    "        cv2.destroyAllWindows()\n",
    "\n",
    "        # Demander à l'utilisateur d'entrer une chaîne de caractères\n",
    "        user_input = input('Entrez une chaîne de caractères : ')\n",
    "\n",
    "        # Calculer les valeurs moyennes des canaux RGB\n",
    "        mean_r, mean_g, mean_b = cv2.mean(image)[:3]\n",
    "\n",
    "        # Ajouter les données à la liste\n",
    "        data.append([mean_r, mean_g, mean_b, user_input])\n",
    "\n",
    "# Créer un DataFrame à partir des données\n",
    "df = pd.DataFrame(data, columns=['Mean R', 'Mean G', 'Mean B', 'String'])\n",
    "\n",
    "# Afficher le DataFrame\n",
    "print(df)\n"
   ]
  },
  {
   "cell_type": "code",
   "execution_count": 1,
   "metadata": {},
   "outputs": [
    {
     "name": "stdout",
     "output_type": "stream",
     "text": [
      "   Predicted Actual\n",
      "8      DRAGG  DRAGG\n",
      "16     DRAGG     MM\n",
      "0         MM     MM\n",
      "24     DRAGG  DRAGG\n",
      "11        MM     MM\n",
      "9        254    254\n"
     ]
    }
   ],
   "source": [
    "import pandas as pd\n",
    "from sklearn.model_selection import train_test_split\n",
    "from sklearn.neighbors import KNeighborsClassifier\n",
    "\n",
    "# Charger les données depuis la DataFrame\n",
    "df = pd.DataFrame({\n",
    "    'R': [96.084483, 76.106949, 82.372177, 112.558970, 109.298286, 145.871456, 99.530915, 126.097688, 40.763611, 1.590861, 50.956118, 84.250337, 160.184735, 119.437748, 31.063307, 68.518278, 71.571677, 12.476152, 68.008460, 6.101639, 1.920308, 7.854053, 20.556862, 16.346579, 12.057424, 113.720635],\n",
    "    'G': [148.194544, 135.402120, 9.962050, 21.746514, 118.935725, 39.051055, 64.867747, 30.276263, 136.646188, 226.105758, 127.798418, 174.413584, 51.735529, 174.000434, 127.321172, 128.704302, 149.473500, 227.321176, 120.560632, 203.415341, 226.791558, 219.086276, 118.921694, 217.673109, 118.844727, 160.441860],\n",
    "    'B': [147.498211, 133.964166, 48.431804, 19.543778, 117.327328, 44.837067, 97.528177, 14.341391, 175.132763, 1.525486, 161.261034, 181.378218, 19.079537, 175.679649, 185.312896, 145.148111, 155.741647, 2.611847, 201.290710, 4.781781, 1.211283, 1.300032, 169.119387, 1.493947, 204.390791, 162.221982],\n",
    "    'Classes': ['MM', 'MM', '365', '365', 'MM', '365', '365', '365', 'DRAGG', '254', 'DRAGG', 'MM', '365', 'MM', 'DRAGG', 'DRAGG', 'MM', '254', 'DRAGG', '254', '254', '254', 'DRAGG', '254', 'DRAGG', 'MM']\n",
    "})\n",
    "\n",
    "# Séparer les données en caractéristiques (X) et étiquettes (y)\n",
    "X = df[['R', 'G', 'B']]\n",
    "y = df['Classes']\n",
    "\n",
    "# Diviser les données en ensembles d'entraînement et de test\n",
    "X_train, X_test, y_train, y_test = train_test_split(X, y, test_size=0.2, random_state=42)\n",
    "\n",
    "# Créer un classifieur KNN avec k=3\n",
    "knn = KNeighborsClassifier(n_neighbors=3)\n",
    "\n",
    "# Entraîner le modèle\n",
    "knn.fit(X_train, y_train)\n",
    "\n",
    "# Prédire les classes pour les données de test\n",
    "y_pred = knn.predict(X_test)\n",
    "\n",
    "# Créer un DataFrame avec les données prédites et les vraies classes\n",
    "results = pd.DataFrame({'Predicted': y_pred, 'Actual': y_test})\n",
    "\n",
    "print(results)\n"
   ]
  },
  {
   "cell_type": "code",
   "execution_count": 3,
   "metadata": {},
   "outputs": [],
   "source": [
    "import pandas as pd\n",
    "from sklearn.neighbors import KNeighborsClassifier\n",
    "\n",
    "# Charger les données depuis la DataFrame\n",
    "df = pd.DataFrame({\n",
    "    'R': [96.084483, 76.106949, 82.372177, 112.558970, 109.298286, 145.871456, 99.530915, 126.097688, 40.763611, 1.590861, 50.956118, 84.250337, 160.184735, 119.437748, 31.063307, 68.518278, 71.571677, 12.476152, 68.008460, 6.101639, 1.920308, 7.854053, 20.556862, 16.346579, 12.057424, 113.720635],\n",
    "    'G': [148.194544, 135.402120, 9.962050, 21.746514, 118.935725, 39.051055, 64.867747, 30.276263, 136.646188, 226.105758, 127.798418, 174.413584, 51.735529, 174.000434, 127.321172, 128.704302, 149.473500, 227.321176, 120.560632, 203.415341, 226.791558, 219.086276, 118.921694, 217.673109, 118.844727, 160.441860],\n",
    "    'B': [147.498211, 133.964166, 48.431804, 19.543778, 117.327328, 44.837067, 97.528177, 14.341391, 175.132763, 1.525486, 161.261034, 181.378218, 19.079537, 175.679649, 185.312896, 145.148111, 155.741647, 2.611847, 201.290710, 4.781781, 1.211283, 1.300032, 169.119387, 1.493947, 204.390791, 162.221982],\n",
    "    'Classes': ['MM', 'MM', '365', '365', 'MM', '365', '365', '365', 'DRAGG', '254', 'DRAGG', 'MM', '365', 'MM', 'DRAGG', 'DRAGG', 'MM', '254', 'DRAGG', '254', '254', '254', 'DRAGG', '254', 'DRAGG', 'MM']\n",
    "})\n",
    "\n",
    "# Séparer les données en caractéristiques (X) et étiquettes (y)\n",
    "X = df[['R', 'G', 'B']]\n",
    "y = df['Classes']\n",
    "\n",
    "# Créer un classifieur KNN avec k=3\n",
    "knn = KNeighborsClassifier(n_neighbors=3)\n",
    "\n",
    "# Entraîner le modèle\n",
    "knn.fit(X, y)\n",
    "\n",
    "# Définir la fonction de prédiction\n",
    "def predict_class(R, G, B):\n",
    "    # Créer une nouvelle DataFrame avec les valeurs R, G et B\n",
    "    data = pd.DataFrame({'R': [R], 'G': [G], 'B': [B]})\n",
    "\n",
    "    # Prédire la classe avec le modèle entraîné\n",
    "    prediction = knn.predict(data)\n",
    "\n",
    "    # Renvoyer la prédiction\n",
    "    return prediction[0]\n"
   ]
  },
  {
   "cell_type": "code",
   "execution_count": 4,
   "metadata": {},
   "outputs": [
    {
     "name": "stdout",
     "output_type": "stream",
     "text": [
      "MM\n"
     ]
    }
   ],
   "source": [
    "# Appel de la fonction de prédiction\n",
    "prediction = predict_class(100, 150, 120)\n",
    "\n",
    "# Affichage de la prédiction\n",
    "print(prediction)\n"
   ]
  }
 ],
 "metadata": {
  "kernelspec": {
   "display_name": "base",
   "language": "python",
   "name": "python3"
  },
  "language_info": {
   "codemirror_mode": {
    "name": "ipython",
    "version": 3
   },
   "file_extension": ".py",
   "mimetype": "text/x-python",
   "name": "python",
   "nbconvert_exporter": "python",
   "pygments_lexer": "ipython3",
   "version": "3.9.12"
  },
  "orig_nbformat": 4
 },
 "nbformat": 4,
 "nbformat_minor": 2
}
